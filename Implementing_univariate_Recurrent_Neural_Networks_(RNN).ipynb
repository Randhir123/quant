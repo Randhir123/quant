{
  "nbformat": 4,
  "nbformat_minor": 0,
  "metadata": {
    "colab": {
      "provenance": [],
      "authorship_tag": "ABX9TyMPYyxE4nar5zfgOJKLwxyo",
      "include_colab_link": true
    },
    "kernelspec": {
      "name": "python3",
      "display_name": "Python 3"
    },
    "language_info": {
      "name": "python"
    }
  },
  "cells": [
    {
      "cell_type": "markdown",
      "metadata": {
        "id": "view-in-github",
        "colab_type": "text"
      },
      "source": [
        "<a href=\"https://colab.research.google.com/github/Randhir123/quant/blob/main/Implementing_univariate_Recurrent_Neural_Networks_(RNN).ipynb\" target=\"_parent\"><img src=\"https://colab.research.google.com/assets/colab-badge.svg\" alt=\"Open In Colab\"/></a>"
      ]
    },
    {
      "cell_type": "markdown",
      "source": [
        "# **Implementing univariate Recurrent Neural Networks (RNN)**"
      ],
      "metadata": {
        "id": "TInkHzIL1coe"
      }
    },
    {
      "cell_type": "markdown",
      "source": [
        "## **1. Introduction and data gathering**\n",
        "\n",
        "In our first practical contact with Recurrent Neural Networks (RNNs) we will implement a model to predict stock **prices** (rather than returns, as we have seen in previous modules). This has an importance, because prices are closer to be interpreted as a sequences than returns. This makes them potentially more predictive using RNNs than returns.\n",
        "\n",
        "As usual, we will start by downloading price data from Yahoo! finance. Note that we take prices from just one stock, our usual suspect Apple Inc., to explore the time-series univariate prediction case."
      ],
      "metadata": {
        "id": "bZ705AC21hIf"
      }
    },
    {
      "cell_type": "code",
      "execution_count": 1,
      "metadata": {
        "id": "D1kDRGdx1VtX"
      },
      "outputs": [],
      "source": [
        "import numpy as np\n",
        "import pandas as pd\n",
        "import yfinance as yf\n",
        "from sklearn.preprocessing import MinMaxScaler"
      ]
    },
    {
      "cell_type": "markdown",
      "source": [
        "We start by gathering the data and defining the output as next day's close price:"
      ],
      "metadata": {
        "id": "5HlrlfgM2FKI"
      }
    },
    {
      "cell_type": "code",
      "source": [
        "df = yf.download(\"AAPL\", start=\"2010-01-01\", end=\"2022-04-11\")\n",
        "del df[\"Volume\"]\n",
        "df[\"Output\"] = df.Close.shift(-1)\n",
        "df.reset_index(inplace=True)"
      ],
      "metadata": {
        "colab": {
          "base_uri": "https://localhost:8080/"
        },
        "id": "z9ueGIV82MYT",
        "outputId": "3e296ac4-159d-444d-99df-85e393579313"
      },
      "execution_count": 2,
      "outputs": [
        {
          "output_type": "stream",
          "name": "stderr",
          "text": [
            "\r[*********************100%%**********************]  1 of 1 completed\n"
          ]
        }
      ]
    },
    {
      "cell_type": "code",
      "source": [
        "print(\"Length of data frame: \", len(df))\n",
        "df.head()"
      ],
      "metadata": {
        "colab": {
          "base_uri": "https://localhost:8080/",
          "height": 224
        },
        "id": "NmluVBJH2RZh",
        "outputId": "b3e70742-6841-4e71-ca13-fb2514c467a1"
      },
      "execution_count": 3,
      "outputs": [
        {
          "output_type": "stream",
          "name": "stdout",
          "text": [
            "Length of data frame:  3089\n"
          ]
        },
        {
          "output_type": "execute_result",
          "data": {
            "text/plain": [
              "        Date      Open      High       Low     Close  Adj Close    Output\n",
              "0 2010-01-04  7.622500  7.660714  7.585000  7.643214   6.461976  7.656429\n",
              "1 2010-01-05  7.664286  7.699643  7.616071  7.656429   6.473148  7.534643\n",
              "2 2010-01-06  7.656429  7.686786  7.526786  7.534643   6.370185  7.520714\n",
              "3 2010-01-07  7.562500  7.571429  7.466071  7.520714   6.358407  7.570714\n",
              "4 2010-01-08  7.510714  7.571429  7.466429  7.570714   6.400681  7.503929"
            ],
            "text/html": [
              "\n",
              "  <div id=\"df-421a5fad-68bd-4be7-94f7-a928ad50e0e0\" class=\"colab-df-container\">\n",
              "    <div>\n",
              "<style scoped>\n",
              "    .dataframe tbody tr th:only-of-type {\n",
              "        vertical-align: middle;\n",
              "    }\n",
              "\n",
              "    .dataframe tbody tr th {\n",
              "        vertical-align: top;\n",
              "    }\n",
              "\n",
              "    .dataframe thead th {\n",
              "        text-align: right;\n",
              "    }\n",
              "</style>\n",
              "<table border=\"1\" class=\"dataframe\">\n",
              "  <thead>\n",
              "    <tr style=\"text-align: right;\">\n",
              "      <th></th>\n",
              "      <th>Date</th>\n",
              "      <th>Open</th>\n",
              "      <th>High</th>\n",
              "      <th>Low</th>\n",
              "      <th>Close</th>\n",
              "      <th>Adj Close</th>\n",
              "      <th>Output</th>\n",
              "    </tr>\n",
              "  </thead>\n",
              "  <tbody>\n",
              "    <tr>\n",
              "      <th>0</th>\n",
              "      <td>2010-01-04</td>\n",
              "      <td>7.622500</td>\n",
              "      <td>7.660714</td>\n",
              "      <td>7.585000</td>\n",
              "      <td>7.643214</td>\n",
              "      <td>6.461976</td>\n",
              "      <td>7.656429</td>\n",
              "    </tr>\n",
              "    <tr>\n",
              "      <th>1</th>\n",
              "      <td>2010-01-05</td>\n",
              "      <td>7.664286</td>\n",
              "      <td>7.699643</td>\n",
              "      <td>7.616071</td>\n",
              "      <td>7.656429</td>\n",
              "      <td>6.473148</td>\n",
              "      <td>7.534643</td>\n",
              "    </tr>\n",
              "    <tr>\n",
              "      <th>2</th>\n",
              "      <td>2010-01-06</td>\n",
              "      <td>7.656429</td>\n",
              "      <td>7.686786</td>\n",
              "      <td>7.526786</td>\n",
              "      <td>7.534643</td>\n",
              "      <td>6.370185</td>\n",
              "      <td>7.520714</td>\n",
              "    </tr>\n",
              "    <tr>\n",
              "      <th>3</th>\n",
              "      <td>2010-01-07</td>\n",
              "      <td>7.562500</td>\n",
              "      <td>7.571429</td>\n",
              "      <td>7.466071</td>\n",
              "      <td>7.520714</td>\n",
              "      <td>6.358407</td>\n",
              "      <td>7.570714</td>\n",
              "    </tr>\n",
              "    <tr>\n",
              "      <th>4</th>\n",
              "      <td>2010-01-08</td>\n",
              "      <td>7.510714</td>\n",
              "      <td>7.571429</td>\n",
              "      <td>7.466429</td>\n",
              "      <td>7.570714</td>\n",
              "      <td>6.400681</td>\n",
              "      <td>7.503929</td>\n",
              "    </tr>\n",
              "  </tbody>\n",
              "</table>\n",
              "</div>\n",
              "    <div class=\"colab-df-buttons\">\n",
              "\n",
              "  <div class=\"colab-df-container\">\n",
              "    <button class=\"colab-df-convert\" onclick=\"convertToInteractive('df-421a5fad-68bd-4be7-94f7-a928ad50e0e0')\"\n",
              "            title=\"Convert this dataframe to an interactive table.\"\n",
              "            style=\"display:none;\">\n",
              "\n",
              "  <svg xmlns=\"http://www.w3.org/2000/svg\" height=\"24px\" viewBox=\"0 -960 960 960\">\n",
              "    <path d=\"M120-120v-720h720v720H120Zm60-500h600v-160H180v160Zm220 220h160v-160H400v160Zm0 220h160v-160H400v160ZM180-400h160v-160H180v160Zm440 0h160v-160H620v160ZM180-180h160v-160H180v160Zm440 0h160v-160H620v160Z\"/>\n",
              "  </svg>\n",
              "    </button>\n",
              "\n",
              "  <style>\n",
              "    .colab-df-container {\n",
              "      display:flex;\n",
              "      gap: 12px;\n",
              "    }\n",
              "\n",
              "    .colab-df-convert {\n",
              "      background-color: #E8F0FE;\n",
              "      border: none;\n",
              "      border-radius: 50%;\n",
              "      cursor: pointer;\n",
              "      display: none;\n",
              "      fill: #1967D2;\n",
              "      height: 32px;\n",
              "      padding: 0 0 0 0;\n",
              "      width: 32px;\n",
              "    }\n",
              "\n",
              "    .colab-df-convert:hover {\n",
              "      background-color: #E2EBFA;\n",
              "      box-shadow: 0px 1px 2px rgba(60, 64, 67, 0.3), 0px 1px 3px 1px rgba(60, 64, 67, 0.15);\n",
              "      fill: #174EA6;\n",
              "    }\n",
              "\n",
              "    .colab-df-buttons div {\n",
              "      margin-bottom: 4px;\n",
              "    }\n",
              "\n",
              "    [theme=dark] .colab-df-convert {\n",
              "      background-color: #3B4455;\n",
              "      fill: #D2E3FC;\n",
              "    }\n",
              "\n",
              "    [theme=dark] .colab-df-convert:hover {\n",
              "      background-color: #434B5C;\n",
              "      box-shadow: 0px 1px 3px 1px rgba(0, 0, 0, 0.15);\n",
              "      filter: drop-shadow(0px 1px 2px rgba(0, 0, 0, 0.3));\n",
              "      fill: #FFFFFF;\n",
              "    }\n",
              "  </style>\n",
              "\n",
              "    <script>\n",
              "      const buttonEl =\n",
              "        document.querySelector('#df-421a5fad-68bd-4be7-94f7-a928ad50e0e0 button.colab-df-convert');\n",
              "      buttonEl.style.display =\n",
              "        google.colab.kernel.accessAllowed ? 'block' : 'none';\n",
              "\n",
              "      async function convertToInteractive(key) {\n",
              "        const element = document.querySelector('#df-421a5fad-68bd-4be7-94f7-a928ad50e0e0');\n",
              "        const dataTable =\n",
              "          await google.colab.kernel.invokeFunction('convertToInteractive',\n",
              "                                                    [key], {});\n",
              "        if (!dataTable) return;\n",
              "\n",
              "        const docLinkHtml = 'Like what you see? Visit the ' +\n",
              "          '<a target=\"_blank\" href=https://colab.research.google.com/notebooks/data_table.ipynb>data table notebook</a>'\n",
              "          + ' to learn more about interactive tables.';\n",
              "        element.innerHTML = '';\n",
              "        dataTable['output_type'] = 'display_data';\n",
              "        await google.colab.output.renderOutput(dataTable, element);\n",
              "        const docLink = document.createElement('div');\n",
              "        docLink.innerHTML = docLinkHtml;\n",
              "        element.appendChild(docLink);\n",
              "      }\n",
              "    </script>\n",
              "  </div>\n",
              "\n",
              "\n",
              "<div id=\"df-5442aafc-68ab-4111-a13a-a127374f0ca4\">\n",
              "  <button class=\"colab-df-quickchart\" onclick=\"quickchart('df-5442aafc-68ab-4111-a13a-a127374f0ca4')\"\n",
              "            title=\"Suggest charts\"\n",
              "            style=\"display:none;\">\n",
              "\n",
              "<svg xmlns=\"http://www.w3.org/2000/svg\" height=\"24px\"viewBox=\"0 0 24 24\"\n",
              "     width=\"24px\">\n",
              "    <g>\n",
              "        <path d=\"M19 3H5c-1.1 0-2 .9-2 2v14c0 1.1.9 2 2 2h14c1.1 0 2-.9 2-2V5c0-1.1-.9-2-2-2zM9 17H7v-7h2v7zm4 0h-2V7h2v10zm4 0h-2v-4h2v4z\"/>\n",
              "    </g>\n",
              "</svg>\n",
              "  </button>\n",
              "\n",
              "<style>\n",
              "  .colab-df-quickchart {\n",
              "      --bg-color: #E8F0FE;\n",
              "      --fill-color: #1967D2;\n",
              "      --hover-bg-color: #E2EBFA;\n",
              "      --hover-fill-color: #174EA6;\n",
              "      --disabled-fill-color: #AAA;\n",
              "      --disabled-bg-color: #DDD;\n",
              "  }\n",
              "\n",
              "  [theme=dark] .colab-df-quickchart {\n",
              "      --bg-color: #3B4455;\n",
              "      --fill-color: #D2E3FC;\n",
              "      --hover-bg-color: #434B5C;\n",
              "      --hover-fill-color: #FFFFFF;\n",
              "      --disabled-bg-color: #3B4455;\n",
              "      --disabled-fill-color: #666;\n",
              "  }\n",
              "\n",
              "  .colab-df-quickchart {\n",
              "    background-color: var(--bg-color);\n",
              "    border: none;\n",
              "    border-radius: 50%;\n",
              "    cursor: pointer;\n",
              "    display: none;\n",
              "    fill: var(--fill-color);\n",
              "    height: 32px;\n",
              "    padding: 0;\n",
              "    width: 32px;\n",
              "  }\n",
              "\n",
              "  .colab-df-quickchart:hover {\n",
              "    background-color: var(--hover-bg-color);\n",
              "    box-shadow: 0 1px 2px rgba(60, 64, 67, 0.3), 0 1px 3px 1px rgba(60, 64, 67, 0.15);\n",
              "    fill: var(--button-hover-fill-color);\n",
              "  }\n",
              "\n",
              "  .colab-df-quickchart-complete:disabled,\n",
              "  .colab-df-quickchart-complete:disabled:hover {\n",
              "    background-color: var(--disabled-bg-color);\n",
              "    fill: var(--disabled-fill-color);\n",
              "    box-shadow: none;\n",
              "  }\n",
              "\n",
              "  .colab-df-spinner {\n",
              "    border: 2px solid var(--fill-color);\n",
              "    border-color: transparent;\n",
              "    border-bottom-color: var(--fill-color);\n",
              "    animation:\n",
              "      spin 1s steps(1) infinite;\n",
              "  }\n",
              "\n",
              "  @keyframes spin {\n",
              "    0% {\n",
              "      border-color: transparent;\n",
              "      border-bottom-color: var(--fill-color);\n",
              "      border-left-color: var(--fill-color);\n",
              "    }\n",
              "    20% {\n",
              "      border-color: transparent;\n",
              "      border-left-color: var(--fill-color);\n",
              "      border-top-color: var(--fill-color);\n",
              "    }\n",
              "    30% {\n",
              "      border-color: transparent;\n",
              "      border-left-color: var(--fill-color);\n",
              "      border-top-color: var(--fill-color);\n",
              "      border-right-color: var(--fill-color);\n",
              "    }\n",
              "    40% {\n",
              "      border-color: transparent;\n",
              "      border-right-color: var(--fill-color);\n",
              "      border-top-color: var(--fill-color);\n",
              "    }\n",
              "    60% {\n",
              "      border-color: transparent;\n",
              "      border-right-color: var(--fill-color);\n",
              "    }\n",
              "    80% {\n",
              "      border-color: transparent;\n",
              "      border-right-color: var(--fill-color);\n",
              "      border-bottom-color: var(--fill-color);\n",
              "    }\n",
              "    90% {\n",
              "      border-color: transparent;\n",
              "      border-bottom-color: var(--fill-color);\n",
              "    }\n",
              "  }\n",
              "</style>\n",
              "\n",
              "  <script>\n",
              "    async function quickchart(key) {\n",
              "      const quickchartButtonEl =\n",
              "        document.querySelector('#' + key + ' button');\n",
              "      quickchartButtonEl.disabled = true;  // To prevent multiple clicks.\n",
              "      quickchartButtonEl.classList.add('colab-df-spinner');\n",
              "      try {\n",
              "        const charts = await google.colab.kernel.invokeFunction(\n",
              "            'suggestCharts', [key], {});\n",
              "      } catch (error) {\n",
              "        console.error('Error during call to suggestCharts:', error);\n",
              "      }\n",
              "      quickchartButtonEl.classList.remove('colab-df-spinner');\n",
              "      quickchartButtonEl.classList.add('colab-df-quickchart-complete');\n",
              "    }\n",
              "    (() => {\n",
              "      let quickchartButtonEl =\n",
              "        document.querySelector('#df-5442aafc-68ab-4111-a13a-a127374f0ca4 button');\n",
              "      quickchartButtonEl.style.display =\n",
              "        google.colab.kernel.accessAllowed ? 'block' : 'none';\n",
              "    })();\n",
              "  </script>\n",
              "</div>\n",
              "\n",
              "    </div>\n",
              "  </div>\n"
            ],
            "application/vnd.google.colaboratory.intrinsic+json": {
              "type": "dataframe",
              "variable_name": "df",
              "summary": "{\n  \"name\": \"df\",\n  \"rows\": 3089,\n  \"fields\": [\n    {\n      \"column\": \"Date\",\n      \"properties\": {\n        \"dtype\": \"date\",\n        \"min\": \"2010-01-04 00:00:00\",\n        \"max\": \"2022-04-08 00:00:00\",\n        \"num_unique_values\": 3089,\n        \"samples\": [\n          \"2020-11-19 00:00:00\",\n          \"2015-03-16 00:00:00\",\n          \"2016-05-13 00:00:00\"\n        ],\n        \"semantic_type\": \"\",\n        \"description\": \"\"\n      }\n    },\n    {\n      \"column\": \"Open\",\n      \"properties\": {\n        \"dtype\": \"number\",\n        \"std\": 41.92527759045323,\n        \"min\": 6.870357036590576,\n        \"max\": 182.6300048828125,\n        \"num_unique_values\": 2964,\n        \"samples\": [\n          78.0374984741211,\n          31.670000076293945,\n          16.54464340209961\n        ],\n        \"semantic_type\": \"\",\n        \"description\": \"\"\n      }\n    },\n    {\n      \"column\": \"High\",\n      \"properties\": {\n        \"dtype\": \"number\",\n        \"std\": 42.432504622092154,\n        \"min\": 7.0,\n        \"max\": 182.94000244140625,\n        \"num_unique_values\": 2944,\n        \"samples\": [\n          21.6492862701416,\n          28.479999542236328,\n          29.982500076293945\n        ],\n        \"semantic_type\": \"\",\n        \"description\": \"\"\n      }\n    },\n    {\n      \"column\": \"Low\",\n      \"properties\": {\n        \"dtype\": \"number\",\n        \"std\": 41.43862101698515,\n        \"min\": 6.794642925262451,\n        \"max\": 179.1199951171875,\n        \"num_unique_values\": 2959,\n        \"samples\": [\n          46.5525016784668,\n          29.9424991607666,\n          16.90178680419922\n        ],\n        \"semantic_type\": \"\",\n        \"description\": \"\"\n      }\n    },\n    {\n      \"column\": \"Close\",\n      \"properties\": {\n        \"dtype\": \"number\",\n        \"std\": 41.9644121761065,\n        \"min\": 6.85892915725708,\n        \"max\": 182.00999450683594,\n        \"num_unique_values\": 2965,\n        \"samples\": [\n          163.75999450683594,\n          52.4375,\n          134.42999267578125\n        ],\n        \"semantic_type\": \"\",\n        \"description\": \"\"\n      }\n    },\n    {\n      \"column\": \"Adj Close\",\n      \"properties\": {\n        \"dtype\": \"number\",\n        \"std\": 41.951432007214265,\n        \"min\": 5.798900127410889,\n        \"max\": 179.48110961914062,\n        \"num_unique_values\": 3045,\n        \"samples\": [\n          27.391328811645508,\n          18.35206413269043,\n          21.054424285888672\n        ],\n        \"semantic_type\": \"\",\n        \"description\": \"\"\n      }\n    },\n    {\n      \"column\": \"Output\",\n      \"properties\": {\n        \"dtype\": \"number\",\n        \"std\": 41.96567796149352,\n        \"min\": 6.85892915725708,\n        \"max\": 182.00999450683594,\n        \"num_unique_values\": 2964,\n        \"samples\": [\n          78.75250244140625,\n          33.162498474121094,\n          16.351428985595703\n        ],\n        \"semantic_type\": \"\",\n        \"description\": \"\"\n      }\n    }\n  ]\n}"
            }
          },
          "metadata": {},
          "execution_count": 3
        }
      ]
    },
    {
      "cell_type": "markdown",
      "source": [
        "## **2. Validation, train and test sample definition**\n",
        "\n",
        "Next, we proceed to define our training, test, and validation sets. Note that we will train using the 98% of the sample. The validation set will be 20% of the training test. We also need to define a 'window' of observations that we are going to take as a sequence input to our network. In this case we choose a window of 20, which means that the last 20 prices (observations) will be incorporated into the sequence of inputs for the network. Note that not all of these may end up playing a big role in the prediction (this is for the training to decide), but we will give the network the possibility to consider up to 20 past prices.\n",
        "\n",
        "Also, note that these, and others, parameters can be included as hyperparameters of the models that we can tune to achieve maximum performance of the algorithm. This is something we leave for future implementations of the Neural Network."
      ],
      "metadata": {
        "id": "kHmq_zMs2atH"
      }
    },
    {
      "cell_type": "code",
      "source": [
        "# First, we deal with the definition of the training, test, and validations sets sizes\n",
        "val_split = 0.2\n",
        "train_split = 0.98\n",
        "train_size = int(len(df) * train_split)\n",
        "val_size = int(train_size * val_split)\n",
        "test_size = int(len(df) - train_size)\n",
        "\n",
        "window_size = 20  # How many daily prices do I want to incorporate in the input sequence for the network?\n",
        "\n",
        "ts = test_size\n",
        "split_time = len(df) - ts\n",
        "test_time = df.iloc[split_time + window_size :, 0:1].values\n",
        "\n",
        "# Second, we actually define the input matrix for train (X_train) and test (X_test), as well as the output vector (y_train and y_test). See how we select 'Adj close' column for the Xdf matrix.\n",
        "# Note that these will need further work afterwards, in order to incorporate the info from the 'sequence' of observations\n",
        "Xdf, ydf = df.iloc[:, 4:5], df.iloc[:, -1]\n",
        "X = Xdf.astype(\"float32\")\n",
        "y = ydf.astype(\"float32\")\n",
        "\n",
        "y_train_set = y[:split_time]\n",
        "y_test_set = y[split_time:]\n",
        "\n",
        "X_train_set = X[:split_time]\n",
        "X_test_set = X[split_time:]\n",
        "\n",
        "n_features = X_train_set.shape[1]\n",
        "\n",
        "# Third, we proceed with scaling inputs to the model. Note how this is specially important now (compare to past tasks) because we are no longer dealing with returns, but with prices!\n",
        "scaler_input = MinMaxScaler(feature_range=(-1, 1))\n",
        "scaler_input.fit(X_train_set)\n",
        "X_train_set_scaled = scaler_input.transform(X_train_set)\n",
        "X_test_set_scaled = scaler_input.transform(X_test_set)\n",
        "\n",
        "mean_ret = np.mean(y_train_set)\n",
        "\n",
        "scaler_output = MinMaxScaler(feature_range=(-1, 1))\n",
        "y_train_set = y_train_set.values.reshape(len(y_train_set), 1)\n",
        "y_test_set = y_test_set.values.reshape(len(y_test_set), 1)\n",
        "scaler_output.fit(y_train_set)\n",
        "y_train_set_scaled = scaler_output.transform(y_train_set)\n",
        "\n",
        "\n",
        "# Lastly, because we want a time series with up to 20 (window_size) past observations, we need to append these observations into our matrix/vectors!\n",
        "training_time = df.iloc[:split_time, 0:1].values\n",
        "\n",
        "X_train = []\n",
        "y_train = []\n",
        "\n",
        "for i in range(window_size, y_train_set_scaled.shape[0]):\n",
        "    X_train.append(X_train_set_scaled[i - window_size : i, :])\n",
        "    y_train.append(y_train_set_scaled[i])\n",
        "\n",
        "X_train, y_train = np.array(X_train), np.array(y_train)\n",
        "\n",
        "print(\"Size of X vector in training:\", X_train.shape)\n",
        "print(\"Size of Y vector in training:\", y_train.shape)\n",
        "\n",
        "X_test = []\n",
        "y_test = y_test_set\n",
        "\n",
        "for i in range(window_size, y_test_set.shape[0]):\n",
        "    X_test.append(X_test_set_scaled[i - window_size : i, :])\n",
        "\n",
        "\n",
        "X_test, y_test = np.array(X_test), np.array(y_test)\n",
        "print(\"Size of X vector in test:\", X_test.shape)\n",
        "print(\"Size of Y vector in test:\", y_test.shape)\n",
        "print(\"Number of features in the model: \", n_features)"
      ],
      "metadata": {
        "colab": {
          "base_uri": "https://localhost:8080/"
        },
        "id": "X7zH6sCQ2j_a",
        "outputId": "3bf86fd4-39fc-417b-ceec-574852c251f0"
      },
      "execution_count": 4,
      "outputs": [
        {
          "output_type": "stream",
          "name": "stdout",
          "text": [
            "Size of X vector in training: (3007, 20, 1)\n",
            "Size of Y vector in training: (3007, 1)\n",
            "Size of X vector in test: (42, 20, 1)\n",
            "Size of Y vector in test: (62, 1)\n",
            "Number of features in the model:  1\n"
          ]
        }
      ]
    },
    {
      "cell_type": "markdown",
      "source": [
        "## **3. Defining the RNN model**\n",
        "\n",
        "Once we have pre-processed the input and output data of our network, let's build it!\n",
        "\n",
        "We will start with a very simple RNN that considers 5 hidden layers (4 simple RNN layers + 1 final dense layer). Each of the RNN layers will have 50 neurons. We apply a Dropout of 20% after each of the RNN layers. Finally, before the single-unit final output layer, we will apply a dense layer with 10 neurons. As you know already, this architecture is kind of random. We will play around with the composition of the network once we move to more advanced models through hyperparameter tuning.\n",
        "\n",
        "A novel thing of RNNs is that we can set the 'return_sequences' argument to True or False, depending on whether we want to pass the last output (if False) or the whole sequence (if True) to the next layer. More info on this here:\n",
        "https://www.tensorflow.org/api_docs/python/tf/keras/layers/SimpleRNN"
      ],
      "metadata": {
        "id": "ZBkB3tUT2yw8"
      }
    },
    {
      "cell_type": "code",
      "source": [
        "import tensorflow as tf\n",
        "\n",
        "model = tf.keras.models.Sequential(\n",
        "    [\n",
        "        tf.keras.layers.SimpleRNN(\n",
        "            50, return_sequences=True, input_shape=(X_train.shape[1], n_features)\n",
        "        ),\n",
        "        tf.keras.layers.Dropout(0.2),\n",
        "        tf.keras.layers.SimpleRNN(50, return_sequences=True),\n",
        "        tf.keras.layers.Dropout(0.2),\n",
        "        tf.keras.layers.SimpleRNN(50, return_sequences=True),\n",
        "        tf.keras.layers.Dropout(0.2),\n",
        "        tf.keras.layers.SimpleRNN(50, return_sequences=False),\n",
        "        tf.keras.layers.Dropout(0.2),\n",
        "        tf.keras.layers.Dense(10),\n",
        "        tf.keras.layers.Dense(1),\n",
        "    ]\n",
        ")"
      ],
      "metadata": {
        "id": "ImaXkC0V273R"
      },
      "execution_count": 5,
      "outputs": []
    },
    {
      "cell_type": "markdown",
      "source": [
        "So, how does the model architecture look like?"
      ],
      "metadata": {
        "id": "CiKG4vmH3Cc5"
      }
    },
    {
      "cell_type": "code",
      "source": [
        "model.summary()"
      ],
      "metadata": {
        "colab": {
          "base_uri": "https://localhost:8080/"
        },
        "id": "OVAqOxY23DJh",
        "outputId": "c54e4d19-ae41-4b56-8ae0-87772387ba15"
      },
      "execution_count": 6,
      "outputs": [
        {
          "output_type": "stream",
          "name": "stdout",
          "text": [
            "Model: \"sequential\"\n",
            "_________________________________________________________________\n",
            " Layer (type)                Output Shape              Param #   \n",
            "=================================================================\n",
            " simple_rnn (SimpleRNN)      (None, 20, 50)            2600      \n",
            "                                                                 \n",
            " dropout (Dropout)           (None, 20, 50)            0         \n",
            "                                                                 \n",
            " simple_rnn_1 (SimpleRNN)    (None, 20, 50)            5050      \n",
            "                                                                 \n",
            " dropout_1 (Dropout)         (None, 20, 50)            0         \n",
            "                                                                 \n",
            " simple_rnn_2 (SimpleRNN)    (None, 20, 50)            5050      \n",
            "                                                                 \n",
            " dropout_2 (Dropout)         (None, 20, 50)            0         \n",
            "                                                                 \n",
            " simple_rnn_3 (SimpleRNN)    (None, 50)                5050      \n",
            "                                                                 \n",
            " dropout_3 (Dropout)         (None, 50)                0         \n",
            "                                                                 \n",
            " dense (Dense)               (None, 10)                510       \n",
            "                                                                 \n",
            " dense_1 (Dense)             (None, 1)                 11        \n",
            "                                                                 \n",
            "=================================================================\n",
            "Total params: 18271 (71.37 KB)\n",
            "Trainable params: 18271 (71.37 KB)\n",
            "Non-trainable params: 0 (0.00 Byte)\n",
            "_________________________________________________________________\n"
          ]
        }
      ]
    },
    {
      "cell_type": "markdown",
      "source": [
        "Note how here the number of parameters to be trained by the model is defined a little bit different at each step. For example, for the second RNN layer, note that we have a total of 5,050 parameters. Where does this number come from?\n",
        "\n",
        "Well, 50x50 + 50x50 + 50x1 = 5,050 parameters. In other words, outputs from previous layer (50) times neurons in this layer (50) plus the neurons in the layer times themselves (50x50), plus the bias term vector (50x1).  \n",
        "\n",
        "Where does the 2,600 parameters of the first layer come from? Well, 50x50 (neurons in the layer) + 50x1 (neurons times number of model features) + 50x1 (bias terms) = 2,600\n",
        "\n",
        "Alike we did for other models, if we sum up all the parameters in the different layers we end up with 18,271 parameters to be trained in this basic model."
      ],
      "metadata": {
        "id": "Hnlp2jis3IPQ"
      }
    },
    {
      "cell_type": "markdown",
      "source": [
        "## **4. Model training**\n",
        "\n",
        "Now, we can proceed with model training. As you will see, there is nothing really new about this and basically training works in exactly the same way once we have defined our hidden layers as 'recurrent' ones."
      ],
      "metadata": {
        "id": "yFjUYEG43NMp"
      }
    },
    {
      "cell_type": "code",
      "source": [
        "from keras.callbacks import EarlyStopping\n",
        "\n",
        "hp_lr = 1e-4\n",
        "model.compile(\n",
        "    optimizer=tf.keras.optimizers.Adam(learning_rate=hp_lr), loss=\"mean_absolute_error\"\n",
        ")\n",
        "\n",
        "es = EarlyStopping(\n",
        "    monitor=\"val_loss\", mode=\"min\", verbose=1, patience=10, restore_best_weights=True\n",
        ")\n",
        "\n",
        "# fit the models\n",
        "model.fit(\n",
        "    X_train,\n",
        "    y_train,\n",
        "    validation_split=0.2,\n",
        "    epochs=500,\n",
        "    batch_size=64,\n",
        "    verbose=1,\n",
        "    callbacks=[es],\n",
        ")"
      ],
      "metadata": {
        "colab": {
          "base_uri": "https://localhost:8080/"
        },
        "id": "Hol9HCZ33b0Q",
        "outputId": "96967bf8-c435-4df0-e260-5f92d020103d"
      },
      "execution_count": 7,
      "outputs": [
        {
          "output_type": "stream",
          "name": "stdout",
          "text": [
            "Epoch 1/500\n",
            "38/38 [==============================] - 7s 44ms/step - loss: 0.8405 - val_loss: 0.3168\n",
            "Epoch 2/500\n",
            "38/38 [==============================] - 1s 25ms/step - loss: 0.6627 - val_loss: 0.4194\n",
            "Epoch 3/500\n",
            "38/38 [==============================] - 1s 26ms/step - loss: 0.6006 - val_loss: 0.3762\n",
            "Epoch 4/500\n",
            "38/38 [==============================] - 1s 27ms/step - loss: 0.5714 - val_loss: 0.2411\n",
            "Epoch 5/500\n",
            "38/38 [==============================] - 1s 26ms/step - loss: 0.5453 - val_loss: 0.1652\n",
            "Epoch 6/500\n",
            "38/38 [==============================] - 1s 28ms/step - loss: 0.5088 - val_loss: 0.1410\n",
            "Epoch 7/500\n",
            "38/38 [==============================] - 1s 28ms/step - loss: 0.4705 - val_loss: 0.1188\n",
            "Epoch 8/500\n",
            "38/38 [==============================] - 1s 26ms/step - loss: 0.4609 - val_loss: 0.1410\n",
            "Epoch 9/500\n",
            "38/38 [==============================] - 1s 28ms/step - loss: 0.4393 - val_loss: 0.1215\n",
            "Epoch 10/500\n",
            "38/38 [==============================] - 2s 40ms/step - loss: 0.4088 - val_loss: 0.1516\n",
            "Epoch 11/500\n",
            "38/38 [==============================] - 2s 47ms/step - loss: 0.3980 - val_loss: 0.1416\n",
            "Epoch 12/500\n",
            "38/38 [==============================] - 1s 31ms/step - loss: 0.3797 - val_loss: 0.1635\n",
            "Epoch 13/500\n",
            "38/38 [==============================] - 1s 27ms/step - loss: 0.3631 - val_loss: 0.1430\n",
            "Epoch 14/500\n",
            "38/38 [==============================] - 1s 27ms/step - loss: 0.3448 - val_loss: 0.1312\n",
            "Epoch 15/500\n",
            "38/38 [==============================] - 1s 25ms/step - loss: 0.3291 - val_loss: 0.1538\n",
            "Epoch 16/500\n",
            "38/38 [==============================] - 1s 25ms/step - loss: 0.3267 - val_loss: 0.1801\n",
            "Epoch 17/500\n",
            "38/38 [==============================] - ETA: 0s - loss: 0.3005Restoring model weights from the end of the best epoch: 7.\n",
            "38/38 [==============================] - 1s 34ms/step - loss: 0.3005 - val_loss: 0.1818\n",
            "Epoch 17: early stopping\n"
          ]
        },
        {
          "output_type": "execute_result",
          "data": {
            "text/plain": [
              "<keras.src.callbacks.History at 0x78e2f66f5f90>"
            ]
          },
          "metadata": {},
          "execution_count": 7
        }
      ]
    },
    {
      "cell_type": "markdown",
      "source": [
        "Next, as usual, we will visualize our predictions in the test sample, undergoing the usual inverse transform to un-do the scaling process:"
      ],
      "metadata": {
        "id": "Vaodsy2i4fYp"
      }
    },
    {
      "cell_type": "code",
      "source": [
        "prediction = model.predict(X_test)\n",
        "prediction = scaler_output.inverse_transform(prediction)\n",
        "prediction = prediction.flatten()\n",
        "\n",
        "values = np.array(y_test[window_size:])\n",
        "values = values.flatten()"
      ],
      "metadata": {
        "colab": {
          "base_uri": "https://localhost:8080/"
        },
        "id": "07s5s40_4f__",
        "outputId": "cb02dc30-7b35-4555-94c4-ea777df1d604"
      },
      "execution_count": 8,
      "outputs": [
        {
          "output_type": "stream",
          "name": "stdout",
          "text": [
            "2/2 [==============================] - 0s 12ms/step\n"
          ]
        }
      ]
    },
    {
      "cell_type": "code",
      "source": [
        "df_predictions = pd.DataFrame(\n",
        "    {\"Date\": test_time.flatten(), \"Pred RNN\": prediction, \"values\": values}\n",
        ")\n",
        "df_predictions.Date = pd.to_datetime(df_predictions.Date, format=\"%Y-%m-%d\")\n",
        "df_predictions.head()"
      ],
      "metadata": {
        "colab": {
          "base_uri": "https://localhost:8080/",
          "height": 206
        },
        "id": "OiJMHrSD4nEW",
        "outputId": "0508d14d-4e89-41a1-d1b5-ddc0455d615d"
      },
      "execution_count": 9,
      "outputs": [
        {
          "output_type": "execute_result",
          "data": {
            "text/plain": [
              "        Date    Pred RNN      values\n",
              "0 2022-02-09  184.835953  172.119995\n",
              "1 2022-02-10  185.660019  168.639999\n",
              "2 2022-02-11  187.722244  168.880005\n",
              "3 2022-02-14  187.384048  172.789993\n",
              "4 2022-02-15  187.230988  172.550003"
            ],
            "text/html": [
              "\n",
              "  <div id=\"df-31cac802-2219-48df-9528-3218df7deda1\" class=\"colab-df-container\">\n",
              "    <div>\n",
              "<style scoped>\n",
              "    .dataframe tbody tr th:only-of-type {\n",
              "        vertical-align: middle;\n",
              "    }\n",
              "\n",
              "    .dataframe tbody tr th {\n",
              "        vertical-align: top;\n",
              "    }\n",
              "\n",
              "    .dataframe thead th {\n",
              "        text-align: right;\n",
              "    }\n",
              "</style>\n",
              "<table border=\"1\" class=\"dataframe\">\n",
              "  <thead>\n",
              "    <tr style=\"text-align: right;\">\n",
              "      <th></th>\n",
              "      <th>Date</th>\n",
              "      <th>Pred RNN</th>\n",
              "      <th>values</th>\n",
              "    </tr>\n",
              "  </thead>\n",
              "  <tbody>\n",
              "    <tr>\n",
              "      <th>0</th>\n",
              "      <td>2022-02-09</td>\n",
              "      <td>184.835953</td>\n",
              "      <td>172.119995</td>\n",
              "    </tr>\n",
              "    <tr>\n",
              "      <th>1</th>\n",
              "      <td>2022-02-10</td>\n",
              "      <td>185.660019</td>\n",
              "      <td>168.639999</td>\n",
              "    </tr>\n",
              "    <tr>\n",
              "      <th>2</th>\n",
              "      <td>2022-02-11</td>\n",
              "      <td>187.722244</td>\n",
              "      <td>168.880005</td>\n",
              "    </tr>\n",
              "    <tr>\n",
              "      <th>3</th>\n",
              "      <td>2022-02-14</td>\n",
              "      <td>187.384048</td>\n",
              "      <td>172.789993</td>\n",
              "    </tr>\n",
              "    <tr>\n",
              "      <th>4</th>\n",
              "      <td>2022-02-15</td>\n",
              "      <td>187.230988</td>\n",
              "      <td>172.550003</td>\n",
              "    </tr>\n",
              "  </tbody>\n",
              "</table>\n",
              "</div>\n",
              "    <div class=\"colab-df-buttons\">\n",
              "\n",
              "  <div class=\"colab-df-container\">\n",
              "    <button class=\"colab-df-convert\" onclick=\"convertToInteractive('df-31cac802-2219-48df-9528-3218df7deda1')\"\n",
              "            title=\"Convert this dataframe to an interactive table.\"\n",
              "            style=\"display:none;\">\n",
              "\n",
              "  <svg xmlns=\"http://www.w3.org/2000/svg\" height=\"24px\" viewBox=\"0 -960 960 960\">\n",
              "    <path d=\"M120-120v-720h720v720H120Zm60-500h600v-160H180v160Zm220 220h160v-160H400v160Zm0 220h160v-160H400v160ZM180-400h160v-160H180v160Zm440 0h160v-160H620v160ZM180-180h160v-160H180v160Zm440 0h160v-160H620v160Z\"/>\n",
              "  </svg>\n",
              "    </button>\n",
              "\n",
              "  <style>\n",
              "    .colab-df-container {\n",
              "      display:flex;\n",
              "      gap: 12px;\n",
              "    }\n",
              "\n",
              "    .colab-df-convert {\n",
              "      background-color: #E8F0FE;\n",
              "      border: none;\n",
              "      border-radius: 50%;\n",
              "      cursor: pointer;\n",
              "      display: none;\n",
              "      fill: #1967D2;\n",
              "      height: 32px;\n",
              "      padding: 0 0 0 0;\n",
              "      width: 32px;\n",
              "    }\n",
              "\n",
              "    .colab-df-convert:hover {\n",
              "      background-color: #E2EBFA;\n",
              "      box-shadow: 0px 1px 2px rgba(60, 64, 67, 0.3), 0px 1px 3px 1px rgba(60, 64, 67, 0.15);\n",
              "      fill: #174EA6;\n",
              "    }\n",
              "\n",
              "    .colab-df-buttons div {\n",
              "      margin-bottom: 4px;\n",
              "    }\n",
              "\n",
              "    [theme=dark] .colab-df-convert {\n",
              "      background-color: #3B4455;\n",
              "      fill: #D2E3FC;\n",
              "    }\n",
              "\n",
              "    [theme=dark] .colab-df-convert:hover {\n",
              "      background-color: #434B5C;\n",
              "      box-shadow: 0px 1px 3px 1px rgba(0, 0, 0, 0.15);\n",
              "      filter: drop-shadow(0px 1px 2px rgba(0, 0, 0, 0.3));\n",
              "      fill: #FFFFFF;\n",
              "    }\n",
              "  </style>\n",
              "\n",
              "    <script>\n",
              "      const buttonEl =\n",
              "        document.querySelector('#df-31cac802-2219-48df-9528-3218df7deda1 button.colab-df-convert');\n",
              "      buttonEl.style.display =\n",
              "        google.colab.kernel.accessAllowed ? 'block' : 'none';\n",
              "\n",
              "      async function convertToInteractive(key) {\n",
              "        const element = document.querySelector('#df-31cac802-2219-48df-9528-3218df7deda1');\n",
              "        const dataTable =\n",
              "          await google.colab.kernel.invokeFunction('convertToInteractive',\n",
              "                                                    [key], {});\n",
              "        if (!dataTable) return;\n",
              "\n",
              "        const docLinkHtml = 'Like what you see? Visit the ' +\n",
              "          '<a target=\"_blank\" href=https://colab.research.google.com/notebooks/data_table.ipynb>data table notebook</a>'\n",
              "          + ' to learn more about interactive tables.';\n",
              "        element.innerHTML = '';\n",
              "        dataTable['output_type'] = 'display_data';\n",
              "        await google.colab.output.renderOutput(dataTable, element);\n",
              "        const docLink = document.createElement('div');\n",
              "        docLink.innerHTML = docLinkHtml;\n",
              "        element.appendChild(docLink);\n",
              "      }\n",
              "    </script>\n",
              "  </div>\n",
              "\n",
              "\n",
              "<div id=\"df-88040003-20a9-4a77-a2d2-0e726753564c\">\n",
              "  <button class=\"colab-df-quickchart\" onclick=\"quickchart('df-88040003-20a9-4a77-a2d2-0e726753564c')\"\n",
              "            title=\"Suggest charts\"\n",
              "            style=\"display:none;\">\n",
              "\n",
              "<svg xmlns=\"http://www.w3.org/2000/svg\" height=\"24px\"viewBox=\"0 0 24 24\"\n",
              "     width=\"24px\">\n",
              "    <g>\n",
              "        <path d=\"M19 3H5c-1.1 0-2 .9-2 2v14c0 1.1.9 2 2 2h14c1.1 0 2-.9 2-2V5c0-1.1-.9-2-2-2zM9 17H7v-7h2v7zm4 0h-2V7h2v10zm4 0h-2v-4h2v4z\"/>\n",
              "    </g>\n",
              "</svg>\n",
              "  </button>\n",
              "\n",
              "<style>\n",
              "  .colab-df-quickchart {\n",
              "      --bg-color: #E8F0FE;\n",
              "      --fill-color: #1967D2;\n",
              "      --hover-bg-color: #E2EBFA;\n",
              "      --hover-fill-color: #174EA6;\n",
              "      --disabled-fill-color: #AAA;\n",
              "      --disabled-bg-color: #DDD;\n",
              "  }\n",
              "\n",
              "  [theme=dark] .colab-df-quickchart {\n",
              "      --bg-color: #3B4455;\n",
              "      --fill-color: #D2E3FC;\n",
              "      --hover-bg-color: #434B5C;\n",
              "      --hover-fill-color: #FFFFFF;\n",
              "      --disabled-bg-color: #3B4455;\n",
              "      --disabled-fill-color: #666;\n",
              "  }\n",
              "\n",
              "  .colab-df-quickchart {\n",
              "    background-color: var(--bg-color);\n",
              "    border: none;\n",
              "    border-radius: 50%;\n",
              "    cursor: pointer;\n",
              "    display: none;\n",
              "    fill: var(--fill-color);\n",
              "    height: 32px;\n",
              "    padding: 0;\n",
              "    width: 32px;\n",
              "  }\n",
              "\n",
              "  .colab-df-quickchart:hover {\n",
              "    background-color: var(--hover-bg-color);\n",
              "    box-shadow: 0 1px 2px rgba(60, 64, 67, 0.3), 0 1px 3px 1px rgba(60, 64, 67, 0.15);\n",
              "    fill: var(--button-hover-fill-color);\n",
              "  }\n",
              "\n",
              "  .colab-df-quickchart-complete:disabled,\n",
              "  .colab-df-quickchart-complete:disabled:hover {\n",
              "    background-color: var(--disabled-bg-color);\n",
              "    fill: var(--disabled-fill-color);\n",
              "    box-shadow: none;\n",
              "  }\n",
              "\n",
              "  .colab-df-spinner {\n",
              "    border: 2px solid var(--fill-color);\n",
              "    border-color: transparent;\n",
              "    border-bottom-color: var(--fill-color);\n",
              "    animation:\n",
              "      spin 1s steps(1) infinite;\n",
              "  }\n",
              "\n",
              "  @keyframes spin {\n",
              "    0% {\n",
              "      border-color: transparent;\n",
              "      border-bottom-color: var(--fill-color);\n",
              "      border-left-color: var(--fill-color);\n",
              "    }\n",
              "    20% {\n",
              "      border-color: transparent;\n",
              "      border-left-color: var(--fill-color);\n",
              "      border-top-color: var(--fill-color);\n",
              "    }\n",
              "    30% {\n",
              "      border-color: transparent;\n",
              "      border-left-color: var(--fill-color);\n",
              "      border-top-color: var(--fill-color);\n",
              "      border-right-color: var(--fill-color);\n",
              "    }\n",
              "    40% {\n",
              "      border-color: transparent;\n",
              "      border-right-color: var(--fill-color);\n",
              "      border-top-color: var(--fill-color);\n",
              "    }\n",
              "    60% {\n",
              "      border-color: transparent;\n",
              "      border-right-color: var(--fill-color);\n",
              "    }\n",
              "    80% {\n",
              "      border-color: transparent;\n",
              "      border-right-color: var(--fill-color);\n",
              "      border-bottom-color: var(--fill-color);\n",
              "    }\n",
              "    90% {\n",
              "      border-color: transparent;\n",
              "      border-bottom-color: var(--fill-color);\n",
              "    }\n",
              "  }\n",
              "</style>\n",
              "\n",
              "  <script>\n",
              "    async function quickchart(key) {\n",
              "      const quickchartButtonEl =\n",
              "        document.querySelector('#' + key + ' button');\n",
              "      quickchartButtonEl.disabled = true;  // To prevent multiple clicks.\n",
              "      quickchartButtonEl.classList.add('colab-df-spinner');\n",
              "      try {\n",
              "        const charts = await google.colab.kernel.invokeFunction(\n",
              "            'suggestCharts', [key], {});\n",
              "      } catch (error) {\n",
              "        console.error('Error during call to suggestCharts:', error);\n",
              "      }\n",
              "      quickchartButtonEl.classList.remove('colab-df-spinner');\n",
              "      quickchartButtonEl.classList.add('colab-df-quickchart-complete');\n",
              "    }\n",
              "    (() => {\n",
              "      let quickchartButtonEl =\n",
              "        document.querySelector('#df-88040003-20a9-4a77-a2d2-0e726753564c button');\n",
              "      quickchartButtonEl.style.display =\n",
              "        google.colab.kernel.accessAllowed ? 'block' : 'none';\n",
              "    })();\n",
              "  </script>\n",
              "</div>\n",
              "\n",
              "    </div>\n",
              "  </div>\n"
            ],
            "application/vnd.google.colaboratory.intrinsic+json": {
              "type": "dataframe",
              "variable_name": "df_predictions",
              "summary": "{\n  \"name\": \"df_predictions\",\n  \"rows\": 42,\n  \"fields\": [\n    {\n      \"column\": \"Date\",\n      \"properties\": {\n        \"dtype\": \"date\",\n        \"min\": \"2022-02-09 00:00:00\",\n        \"max\": \"2022-04-08 00:00:00\",\n        \"num_unique_values\": 42,\n        \"samples\": [\n          \"2022-03-17 00:00:00\",\n          \"2022-03-01 00:00:00\",\n          \"2022-02-22 00:00:00\"\n        ],\n        \"semantic_type\": \"\",\n        \"description\": \"\"\n      }\n    },\n    {\n      \"column\": \"Pred RNN\",\n      \"properties\": {\n        \"dtype\": \"float32\",\n        \"num_unique_values\": 42,\n        \"samples\": [\n          175.5660400390625,\n          188.8740234375,\n          195.7027587890625\n        ],\n        \"semantic_type\": \"\",\n        \"description\": \"\"\n      }\n    },\n    {\n      \"column\": \"values\",\n      \"properties\": {\n        \"dtype\": \"float32\",\n        \"num_unique_values\": 40,\n        \"samples\": [\n          154.72999572753906,\n          157.44000244140625,\n          159.3000030517578\n        ],\n        \"semantic_type\": \"\",\n        \"description\": \"\"\n      }\n    }\n  ]\n}"
            }
          },
          "metadata": {},
          "execution_count": 9
        }
      ]
    },
    {
      "cell_type": "markdown",
      "source": [
        "And, finally, in a plot:"
      ],
      "metadata": {
        "id": "gj2FK8dC44bj"
      }
    },
    {
      "cell_type": "code",
      "source": [
        "import matplotlib.pyplot as plt\n",
        "\n",
        "plt_1 = plt.figure(figsize=(10, 7))\n",
        "ax = plt.gca()\n",
        "df_predictions.plot(x=\"Date\", y=\"Pred RNN\", label=\"Prediction\", ax=ax)\n",
        "df_predictions.plot(x=\"Date\", y=\"values\", label=\"Real Price\", ax=ax)\n",
        "plt.grid()\n",
        "plt.show()"
      ],
      "metadata": {
        "colab": {
          "base_uri": "https://localhost:8080/",
          "height": 594
        },
        "id": "exiuU92E446s",
        "outputId": "0ac3d622-56f2-4692-c79c-52fd9ba81a0c"
      },
      "execution_count": 10,
      "outputs": [
        {
          "output_type": "display_data",
          "data": {
            "text/plain": [
              "<Figure size 1000x700 with 1 Axes>"
            ],
            "image/png": "[encoded data removed]"
          },
          "metadata": {}
        }
      ]
    },
    {
      "cell_type": "markdown",
      "source": [
        "As you can see, our model does not perform so well for predicting the time-series of prices given a sequence. It kind of 'guesses' part of the trend, but is far from being a nice tool to closely predict future stock prices."
      ],
      "metadata": {
        "id": "Z-2QEcFU4-Wv"
      }
    },
    {
      "cell_type": "markdown",
      "source": [
        "## **5. Conclusion**\n",
        "\n",
        "In this lesson we have implemented our first Recurrent Neural Network (RNN) using a sequence of 20 past prices to predict future ones. We have seen that the predictive performance of this model is not so great after all. But there are lots of things to be done in terms of improving the model. This is what we will tackle in the next lessons, which will also serve as a good excuse to introduce the details of how forward and backprop work in RNN models."
      ],
      "metadata": {
        "id": "-TWrVK4a4_Di"
      }
    }
  ]
}